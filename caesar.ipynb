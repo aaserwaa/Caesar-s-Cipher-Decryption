{
 "cells": [
  {
   "cell_type": "code",
   "execution_count": null,
   "metadata": {},
   "outputs": [],
   "source": [
    "# Decryption function\n",
    "def caesar_cipher_decrypt(cipher_text, shift):\n",
    "    decrypted_text = \"\"\n",
    "    for char in cipher_text:\n",
    "        if char.isalpha():\n",
    "            is_upper = char.isupper()\n",
    "            char = char.lower()\n",
    "            shifted_char = chr(((ord(char) - ord('a') - shift) % 26) + ord('a'))\n",
    "            if is_upper:\n",
    "                shifted_char = shifted_char.upper()\n",
    "            decrypted_text += shifted_char\n",
    "        else:\n",
    "            decrypted_text += char\n",
    "    return decrypted_text\n",
    "\n",
    "# Define the encrypted text and shift value\n",
    "encrypted_text = \"your_encrypted_text_here\"\n",
    "shift = 3  # Replace with the actual shift value used during encryption\n",
    "\n",
    "# Decrypt the Caesar's message\n",
    "decrypted_text = caesar_cipher_decrypt(encrypted_text, shift)\n",
    "print(\"Decrypted Text:\", decrypted_text)\n"
   ]
  }
 ],
 "metadata": {
  "language_info": {
   "name": "python"
  }
 },
 "nbformat": 4,
 "nbformat_minor": 2
}
